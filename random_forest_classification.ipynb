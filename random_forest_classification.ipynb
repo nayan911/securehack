{
 "cells": [
  {
   "cell_type": "markdown",
   "metadata": {
    "colab_type": "text",
    "id": "view-in-github"
   },
   "source": [
    "<a href=\"https://colab.research.google.com/github/nayan911/securehack/blob/main/random_forest_classification.ipynb\" target=\"_parent\"><img src=\"https://colab.research.google.com/assets/colab-badge.svg\" alt=\"Open In Colab\"/></a>"
   ]
  },
  {
   "cell_type": "markdown",
   "metadata": {
    "id": "0MRC0e0KhQ0S"
   },
   "source": [
    "# Random Forest Classification"
   ]
  },
  {
   "cell_type": "markdown",
   "metadata": {
    "id": "LWd1UlMnhT2s"
   },
   "source": [
    "## Importing the libraries"
   ]
  },
  {
   "cell_type": "code",
   "execution_count": 1,
   "metadata": {
    "id": "YvGPUQaHhXfL"
   },
   "outputs": [
    {
     "name": "stderr",
     "output_type": "stream",
     "text": [
      "C:\\Users\\ajitg\\miniconda3\\lib\\site-packages\\numpy\\_distributor_init.py:30: UserWarning: loaded more than 1 DLL from .libs:\n",
      "C:\\Users\\ajitg\\miniconda3\\lib\\site-packages\\numpy\\.libs\\libopenblas.FB5AE2TYXYH2IJRDKGDGQ3XBKLKTF43H.gfortran-win_amd64.dll\n",
      "C:\\Users\\ajitg\\miniconda3\\lib\\site-packages\\numpy\\.libs\\libopenblas64__v0.3.21-gcc_10_3_0.dll\n",
      "  warnings.warn(\"loaded more than 1 DLL from .libs:\"\n"
     ]
    }
   ],
   "source": [
    "import numpy as np\n",
    "import matplotlib.pyplot as plt\n",
    "import pandas as pd"
   ]
  },
  {
   "cell_type": "markdown",
   "metadata": {
    "id": "K1VMqkGvhc3-"
   },
   "source": [
    "## Importing the dataset"
   ]
  },
  {
   "cell_type": "code",
   "execution_count": 27,
   "metadata": {
    "id": "M52QDmyzhh9s"
   },
   "outputs": [],
   "source": [
    "data = pd.read_csv('Website Phishing.csv')\n"
   ]
  },
  {
   "cell_type": "code",
   "execution_count": 28,
   "metadata": {},
   "outputs": [
    {
     "data": {
      "text/plain": [
       "(1353, 10)"
      ]
     },
     "execution_count": 28,
     "metadata": {},
     "output_type": "execute_result"
    }
   ],
   "source": [
    "data.shape"
   ]
  },
  {
   "cell_type": "code",
   "execution_count": 29,
   "metadata": {},
   "outputs": [
    {
     "data": {
      "text/html": [
       "<div>\n",
       "<style scoped>\n",
       "    .dataframe tbody tr th:only-of-type {\n",
       "        vertical-align: middle;\n",
       "    }\n",
       "\n",
       "    .dataframe tbody tr th {\n",
       "        vertical-align: top;\n",
       "    }\n",
       "\n",
       "    .dataframe thead th {\n",
       "        text-align: right;\n",
       "    }\n",
       "</style>\n",
       "<table border=\"1\" class=\"dataframe\">\n",
       "  <thead>\n",
       "    <tr style=\"text-align: right;\">\n",
       "      <th></th>\n",
       "      <th>SFH</th>\n",
       "      <th>popUpWidnow</th>\n",
       "      <th>SSLfinal_State</th>\n",
       "      <th>Request_URL</th>\n",
       "      <th>URL_of_Anchor</th>\n",
       "      <th>web_traffic</th>\n",
       "      <th>URL_Length</th>\n",
       "      <th>age_of_domain</th>\n",
       "      <th>having_IP_Address</th>\n",
       "      <th>Result</th>\n",
       "    </tr>\n",
       "  </thead>\n",
       "  <tbody>\n",
       "    <tr>\n",
       "      <th>0</th>\n",
       "      <td>1</td>\n",
       "      <td>-1</td>\n",
       "      <td>1</td>\n",
       "      <td>-1</td>\n",
       "      <td>-1</td>\n",
       "      <td>1</td>\n",
       "      <td>1</td>\n",
       "      <td>1</td>\n",
       "      <td>0</td>\n",
       "      <td>0</td>\n",
       "    </tr>\n",
       "    <tr>\n",
       "      <th>1</th>\n",
       "      <td>-1</td>\n",
       "      <td>-1</td>\n",
       "      <td>-1</td>\n",
       "      <td>-1</td>\n",
       "      <td>-1</td>\n",
       "      <td>0</td>\n",
       "      <td>1</td>\n",
       "      <td>1</td>\n",
       "      <td>1</td>\n",
       "      <td>1</td>\n",
       "    </tr>\n",
       "    <tr>\n",
       "      <th>2</th>\n",
       "      <td>1</td>\n",
       "      <td>-1</td>\n",
       "      <td>0</td>\n",
       "      <td>0</td>\n",
       "      <td>-1</td>\n",
       "      <td>0</td>\n",
       "      <td>-1</td>\n",
       "      <td>1</td>\n",
       "      <td>0</td>\n",
       "      <td>1</td>\n",
       "    </tr>\n",
       "    <tr>\n",
       "      <th>3</th>\n",
       "      <td>1</td>\n",
       "      <td>0</td>\n",
       "      <td>1</td>\n",
       "      <td>-1</td>\n",
       "      <td>-1</td>\n",
       "      <td>0</td>\n",
       "      <td>1</td>\n",
       "      <td>1</td>\n",
       "      <td>0</td>\n",
       "      <td>0</td>\n",
       "    </tr>\n",
       "    <tr>\n",
       "      <th>4</th>\n",
       "      <td>-1</td>\n",
       "      <td>-1</td>\n",
       "      <td>1</td>\n",
       "      <td>-1</td>\n",
       "      <td>0</td>\n",
       "      <td>0</td>\n",
       "      <td>-1</td>\n",
       "      <td>1</td>\n",
       "      <td>0</td>\n",
       "      <td>1</td>\n",
       "    </tr>\n",
       "  </tbody>\n",
       "</table>\n",
       "</div>"
      ],
      "text/plain": [
       "   SFH  popUpWidnow  SSLfinal_State  Request_URL  URL_of_Anchor  web_traffic  \\\n",
       "0    1           -1               1           -1             -1            1   \n",
       "1   -1           -1              -1           -1             -1            0   \n",
       "2    1           -1               0            0             -1            0   \n",
       "3    1            0               1           -1             -1            0   \n",
       "4   -1           -1               1           -1              0            0   \n",
       "\n",
       "   URL_Length  age_of_domain  having_IP_Address  Result  \n",
       "0           1              1                  0       0  \n",
       "1           1              1                  1       1  \n",
       "2          -1              1                  0       1  \n",
       "3           1              1                  0       0  \n",
       "4          -1              1                  0       1  "
      ]
     },
     "execution_count": 29,
     "metadata": {},
     "output_type": "execute_result"
    }
   ],
   "source": [
    "data.head()"
   ]
  },
  {
   "cell_type": "code",
   "execution_count": 30,
   "metadata": {},
   "outputs": [],
   "source": [
    "X = data.iloc[:,:-1].values\n",
    "Y = data.iloc[:,-1].values"
   ]
  },
  {
   "cell_type": "code",
   "execution_count": 31,
   "metadata": {},
   "outputs": [
    {
     "data": {
      "text/plain": [
       "array([[ 1, -1,  1, ...,  1,  1,  0],\n",
       "       [-1, -1, -1, ...,  1,  1,  1],\n",
       "       [ 1, -1,  0, ..., -1,  1,  0],\n",
       "       ...,\n",
       "       [-1,  0, -1, ..., -1, -1,  0],\n",
       "       [ 0,  0,  1, ..., -1,  1,  0],\n",
       "       [ 1,  0,  1, ..., -1, -1,  0]], dtype=int64)"
      ]
     },
     "execution_count": 31,
     "metadata": {},
     "output_type": "execute_result"
    }
   ],
   "source": [
    "X"
   ]
  },
  {
   "cell_type": "code",
   "execution_count": 32,
   "metadata": {},
   "outputs": [
    {
     "data": {
      "text/plain": [
       "array([ 0,  1,  1, ...,  1,  1, -1], dtype=int64)"
      ]
     },
     "execution_count": 32,
     "metadata": {},
     "output_type": "execute_result"
    }
   ],
   "source": [
    "Y"
   ]
  },
  {
   "cell_type": "code",
   "execution_count": 33,
   "metadata": {},
   "outputs": [
    {
     "data": {
      "text/plain": [
       "(1353,)"
      ]
     },
     "execution_count": 33,
     "metadata": {},
     "output_type": "execute_result"
    }
   ],
   "source": [
    "Y.shape"
   ]
  },
  {
   "cell_type": "markdown",
   "metadata": {
    "id": "YvxIPVyMhmKp"
   },
   "source": [
    "## Splitting the dataset into the Training set and Test set"
   ]
  },
  {
   "cell_type": "code",
   "execution_count": 34,
   "metadata": {
    "id": "AVzJWAXIhxoC"
   },
   "outputs": [],
   "source": [
    "from sklearn.model_selection import train_test_split\n",
    "X_train, X_test, y_train, y_test = train_test_split(X, Y, test_size = 0.25, random_state = 0)"
   ]
  },
  {
   "cell_type": "code",
   "execution_count": 35,
   "metadata": {
    "colab": {
     "base_uri": "https://localhost:8080/"
    },
    "id": "P3nS3-6r1i2B",
    "outputId": "94edea40-0386-4552-9e7c-d591693fa6c1"
   },
   "outputs": [
    {
     "name": "stdout",
     "output_type": "stream",
     "text": [
      "[[ 1  0  1 ... -1  1  0]\n",
      " [-1 -1 -1 ...  1  1  0]\n",
      " [ 1 -1  0 ... -1 -1  0]\n",
      " ...\n",
      " [ 1  0  1 ...  0  1  0]\n",
      " [ 1  0  1 ...  0  1  0]\n",
      " [-1  0  0 ... -1  1  0]]\n"
     ]
    }
   ],
   "source": [
    "print(X_train)"
   ]
  },
  {
   "cell_type": "code",
   "execution_count": 36,
   "metadata": {
    "colab": {
     "base_uri": "https://localhost:8080/"
    },
    "id": "8dpDLojm1mVG",
    "outputId": "65b2d7ea-bf8a-4dc1-c096-a88c3b2a8c9c"
   },
   "outputs": [
    {
     "name": "stdout",
     "output_type": "stream",
     "text": [
      "[-1  1 -1 ... -1 -1  1]\n"
     ]
    }
   ],
   "source": [
    "print(y_train)"
   ]
  },
  {
   "cell_type": "code",
   "execution_count": 37,
   "metadata": {
    "colab": {
     "base_uri": "https://localhost:8080/"
    },
    "id": "qbb7i0DH1qui",
    "outputId": "6c779f51-f502-45a1-b612-4904003f679a"
   },
   "outputs": [
    {
     "name": "stdout",
     "output_type": "stream",
     "text": [
      "[[-1  0  1 ...  0  1  0]\n",
      " [ 0  0  0 ...  0  1  0]\n",
      " [ 1  0  1 ...  0  1  0]\n",
      " ...\n",
      " [ 1  0 -1 ...  1  1  0]\n",
      " [ 1  0 -1 ...  0 -1  0]\n",
      " [ 1  0 -1 ... -1 -1  0]]\n"
     ]
    }
   ],
   "source": [
    "print(X_test)"
   ]
  },
  {
   "cell_type": "code",
   "execution_count": 38,
   "metadata": {
    "colab": {
     "base_uri": "https://localhost:8080/"
    },
    "id": "kj1hnFAR1s5w",
    "outputId": "49195a53-f75c-4e65-f787-1a5616c5a1c5"
   },
   "outputs": [
    {
     "name": "stdout",
     "output_type": "stream",
     "text": [
      "[ 1  0 -1  1  1 -1  1  1 -1 -1 -1 -1 -1 -1  1  1 -1  1  0 -1  1  1 -1  1\n",
      " -1  1 -1  1  1  1  0 -1 -1 -1 -1 -1  1  1  0 -1 -1 -1  1 -1 -1  1  1 -1\n",
      "  1  1 -1 -1  1 -1  1  0 -1 -1  1 -1  1  1  1  1  1 -1 -1  1 -1 -1 -1 -1\n",
      "  1  1 -1 -1  1  1 -1 -1 -1  1 -1  1  1 -1  0 -1  1 -1 -1  1 -1  1  0  1\n",
      " -1 -1 -1 -1 -1 -1 -1  1 -1  1  1  1  1  0  1  1  1  0 -1 -1 -1 -1 -1  1\n",
      "  1 -1 -1 -1  1 -1  0 -1  1  1  0 -1 -1 -1  1  1 -1  0 -1  1  1  0  1 -1\n",
      " -1 -1  1  1  1 -1 -1 -1 -1  1  0  1 -1 -1  1 -1  1  0  1  1  1 -1 -1  1\n",
      "  1 -1  1 -1  1 -1 -1  1  1 -1 -1  1 -1 -1 -1  1 -1 -1 -1 -1 -1 -1  1  1\n",
      "  1  0 -1  1 -1  1 -1  1 -1 -1  1  1  1 -1  1  1 -1 -1  1 -1  1  0 -1  0\n",
      "  1 -1  1 -1 -1  0  1  0 -1 -1 -1  1 -1  1  1  1 -1 -1  1  1  1 -1 -1 -1\n",
      " -1 -1  1  0  1  1  1  1 -1 -1  1  1 -1 -1  1  1  1 -1  1 -1 -1 -1 -1 -1\n",
      " -1 -1 -1 -1  1 -1 -1 -1 -1  1 -1 -1  1  1 -1 -1  0  1 -1 -1  1  0  0  0\n",
      "  1 -1  1 -1 -1 -1 -1  1 -1  1  1 -1 -1 -1  1  1 -1  1  1  1  1  0 -1 -1\n",
      "  1  1  1 -1 -1  1 -1  1 -1  0  0 -1 -1  1 -1  1 -1 -1  1 -1  1  1  1 -1\n",
      " -1 -1 -1]\n"
     ]
    }
   ],
   "source": [
    "print(y_test)"
   ]
  },
  {
   "cell_type": "markdown",
   "metadata": {
    "id": "bb6jCOCQiAmP"
   },
   "source": [
    "## Training the Random Forest Classification model on the Training set"
   ]
  },
  {
   "cell_type": "code",
   "execution_count": 39,
   "metadata": {
    "colab": {
     "base_uri": "https://localhost:8080/",
     "height": 75
    },
    "id": "e0pFVAmciHQs",
    "outputId": "c25247a4-dd3d-4d9c-c5e1-bc3d4b31ac64"
   },
   "outputs": [
    {
     "data": {
      "text/html": [
       "<style>#sk-container-id-1 {color: black;background-color: white;}#sk-container-id-1 pre{padding: 0;}#sk-container-id-1 div.sk-toggleable {background-color: white;}#sk-container-id-1 label.sk-toggleable__label {cursor: pointer;display: block;width: 100%;margin-bottom: 0;padding: 0.3em;box-sizing: border-box;text-align: center;}#sk-container-id-1 label.sk-toggleable__label-arrow:before {content: \"▸\";float: left;margin-right: 0.25em;color: #696969;}#sk-container-id-1 label.sk-toggleable__label-arrow:hover:before {color: black;}#sk-container-id-1 div.sk-estimator:hover label.sk-toggleable__label-arrow:before {color: black;}#sk-container-id-1 div.sk-toggleable__content {max-height: 0;max-width: 0;overflow: hidden;text-align: left;background-color: #f0f8ff;}#sk-container-id-1 div.sk-toggleable__content pre {margin: 0.2em;color: black;border-radius: 0.25em;background-color: #f0f8ff;}#sk-container-id-1 input.sk-toggleable__control:checked~div.sk-toggleable__content {max-height: 200px;max-width: 100%;overflow: auto;}#sk-container-id-1 input.sk-toggleable__control:checked~label.sk-toggleable__label-arrow:before {content: \"▾\";}#sk-container-id-1 div.sk-estimator input.sk-toggleable__control:checked~label.sk-toggleable__label {background-color: #d4ebff;}#sk-container-id-1 div.sk-label input.sk-toggleable__control:checked~label.sk-toggleable__label {background-color: #d4ebff;}#sk-container-id-1 input.sk-hidden--visually {border: 0;clip: rect(1px 1px 1px 1px);clip: rect(1px, 1px, 1px, 1px);height: 1px;margin: -1px;overflow: hidden;padding: 0;position: absolute;width: 1px;}#sk-container-id-1 div.sk-estimator {font-family: monospace;background-color: #f0f8ff;border: 1px dotted black;border-radius: 0.25em;box-sizing: border-box;margin-bottom: 0.5em;}#sk-container-id-1 div.sk-estimator:hover {background-color: #d4ebff;}#sk-container-id-1 div.sk-parallel-item::after {content: \"\";width: 100%;border-bottom: 1px solid gray;flex-grow: 1;}#sk-container-id-1 div.sk-label:hover label.sk-toggleable__label {background-color: #d4ebff;}#sk-container-id-1 div.sk-serial::before {content: \"\";position: absolute;border-left: 1px solid gray;box-sizing: border-box;top: 0;bottom: 0;left: 50%;z-index: 0;}#sk-container-id-1 div.sk-serial {display: flex;flex-direction: column;align-items: center;background-color: white;padding-right: 0.2em;padding-left: 0.2em;position: relative;}#sk-container-id-1 div.sk-item {position: relative;z-index: 1;}#sk-container-id-1 div.sk-parallel {display: flex;align-items: stretch;justify-content: center;background-color: white;position: relative;}#sk-container-id-1 div.sk-item::before, #sk-container-id-1 div.sk-parallel-item::before {content: \"\";position: absolute;border-left: 1px solid gray;box-sizing: border-box;top: 0;bottom: 0;left: 50%;z-index: -1;}#sk-container-id-1 div.sk-parallel-item {display: flex;flex-direction: column;z-index: 1;position: relative;background-color: white;}#sk-container-id-1 div.sk-parallel-item:first-child::after {align-self: flex-end;width: 50%;}#sk-container-id-1 div.sk-parallel-item:last-child::after {align-self: flex-start;width: 50%;}#sk-container-id-1 div.sk-parallel-item:only-child::after {width: 0;}#sk-container-id-1 div.sk-dashed-wrapped {border: 1px dashed gray;margin: 0 0.4em 0.5em 0.4em;box-sizing: border-box;padding-bottom: 0.4em;background-color: white;}#sk-container-id-1 div.sk-label label {font-family: monospace;font-weight: bold;display: inline-block;line-height: 1.2em;}#sk-container-id-1 div.sk-label-container {text-align: center;}#sk-container-id-1 div.sk-container {/* jupyter's `normalize.less` sets `[hidden] { display: none; }` but bootstrap.min.css set `[hidden] { display: none !important; }` so we also need the `!important` here to be able to override the default hidden behavior on the sphinx rendered scikit-learn.org. See: https://github.com/scikit-learn/scikit-learn/issues/21755 */display: inline-block !important;position: relative;}#sk-container-id-1 div.sk-text-repr-fallback {display: none;}</style><div id=\"sk-container-id-1\" class=\"sk-top-container\"><div class=\"sk-text-repr-fallback\"><pre>RandomForestClassifier(criterion=&#x27;entropy&#x27;, n_estimators=10, random_state=0)</pre><b>In a Jupyter environment, please rerun this cell to show the HTML representation or trust the notebook. <br />On GitHub, the HTML representation is unable to render, please try loading this page with nbviewer.org.</b></div><div class=\"sk-container\" hidden><div class=\"sk-item\"><div class=\"sk-estimator sk-toggleable\"><input class=\"sk-toggleable__control sk-hidden--visually\" id=\"sk-estimator-id-1\" type=\"checkbox\" checked><label for=\"sk-estimator-id-1\" class=\"sk-toggleable__label sk-toggleable__label-arrow\">RandomForestClassifier</label><div class=\"sk-toggleable__content\"><pre>RandomForestClassifier(criterion=&#x27;entropy&#x27;, n_estimators=10, random_state=0)</pre></div></div></div></div></div>"
      ],
      "text/plain": [
       "RandomForestClassifier(criterion='entropy', n_estimators=10, random_state=0)"
      ]
     },
     "execution_count": 39,
     "metadata": {},
     "output_type": "execute_result"
    }
   ],
   "source": [
    "from sklearn.ensemble import RandomForestClassifier\n",
    "classifier = RandomForestClassifier(n_estimators = 10, criterion = 'entropy', random_state = 0)\n",
    "classifier.fit(X_train, y_train)"
   ]
  },
  {
   "cell_type": "markdown",
   "metadata": {
    "id": "yyxW5b395mR2"
   },
   "source": [
    "## Predicting a new result"
   ]
  },
  {
   "cell_type": "code",
   "execution_count": 40,
   "metadata": {
    "id": "f8YOXsQy58rP"
   },
   "outputs": [],
   "source": [
    "# print(classifier.predict(sc.transform([[30,87000]])))"
   ]
  },
  {
   "cell_type": "markdown",
   "metadata": {
    "id": "vKYVQH-l5NpE"
   },
   "source": [
    "## Predicting the Test set results"
   ]
  },
  {
   "cell_type": "code",
   "execution_count": 41,
   "metadata": {
    "id": "p6VMTb2O4hwM"
   },
   "outputs": [
    {
     "name": "stdout",
     "output_type": "stream",
     "text": [
      "[[-1  1]\n",
      " [ 0  0]\n",
      " [-1 -1]\n",
      " [ 1  1]\n",
      " [-1  1]\n",
      " [-1 -1]\n",
      " [ 1  1]\n",
      " [ 1  1]\n",
      " [-1 -1]\n",
      " [-1 -1]\n",
      " [-1 -1]\n",
      " [-1 -1]\n",
      " [-1 -1]\n",
      " [-1 -1]\n",
      " [ 1  1]\n",
      " [ 1  1]\n",
      " [ 1 -1]\n",
      " [ 1  1]\n",
      " [ 0  0]\n",
      " [-1 -1]\n",
      " [ 1  1]\n",
      " [ 1  1]\n",
      " [-1 -1]\n",
      " [ 1  1]\n",
      " [-1 -1]\n",
      " [ 1  1]\n",
      " [ 1 -1]\n",
      " [ 1  1]\n",
      " [ 1  1]\n",
      " [ 1  1]\n",
      " [-1  0]\n",
      " [-1 -1]\n",
      " [-1 -1]\n",
      " [-1 -1]\n",
      " [-1 -1]\n",
      " [-1 -1]\n",
      " [ 1  1]\n",
      " [ 1  1]\n",
      " [ 0  0]\n",
      " [-1 -1]\n",
      " [-1 -1]\n",
      " [-1 -1]\n",
      " [ 1  1]\n",
      " [-1 -1]\n",
      " [ 1 -1]\n",
      " [-1  1]\n",
      " [ 1  1]\n",
      " [ 1 -1]\n",
      " [ 1  1]\n",
      " [ 1  1]\n",
      " [-1 -1]\n",
      " [ 1 -1]\n",
      " [ 1  1]\n",
      " [-1 -1]\n",
      " [ 1  1]\n",
      " [ 0  0]\n",
      " [ 1 -1]\n",
      " [-1 -1]\n",
      " [ 1  1]\n",
      " [-1 -1]\n",
      " [ 1  1]\n",
      " [ 1  1]\n",
      " [ 1  1]\n",
      " [ 1  1]\n",
      " [ 1  1]\n",
      " [-1 -1]\n",
      " [-1 -1]\n",
      " [ 1  1]\n",
      " [-1 -1]\n",
      " [-1 -1]\n",
      " [-1 -1]\n",
      " [-1 -1]\n",
      " [ 1  1]\n",
      " [ 1  1]\n",
      " [-1 -1]\n",
      " [ 1 -1]\n",
      " [ 1  1]\n",
      " [ 1  1]\n",
      " [-1 -1]\n",
      " [-1 -1]\n",
      " [-1 -1]\n",
      " [ 1  1]\n",
      " [-1 -1]\n",
      " [ 1  1]\n",
      " [-1  1]\n",
      " [-1 -1]\n",
      " [ 1  0]\n",
      " [-1 -1]\n",
      " [ 1  1]\n",
      " [-1 -1]\n",
      " [-1 -1]\n",
      " [-1  1]\n",
      " [ 1 -1]\n",
      " [ 1  1]\n",
      " [-1  0]\n",
      " [ 1  1]\n",
      " [-1 -1]\n",
      " [-1 -1]\n",
      " [-1 -1]\n",
      " [-1 -1]\n",
      " [-1 -1]\n",
      " [-1 -1]\n",
      " [-1 -1]\n",
      " [ 1  1]\n",
      " [-1 -1]\n",
      " [ 1  1]\n",
      " [ 1  1]\n",
      " [ 1  1]\n",
      " [ 1  1]\n",
      " [ 0  0]\n",
      " [-1  1]\n",
      " [ 1  1]\n",
      " [ 1  1]\n",
      " [ 0  0]\n",
      " [-1 -1]\n",
      " [-1 -1]\n",
      " [-1 -1]\n",
      " [-1 -1]\n",
      " [-1 -1]\n",
      " [ 1  1]\n",
      " [ 1  1]\n",
      " [-1 -1]\n",
      " [-1 -1]\n",
      " [-1 -1]\n",
      " [ 1  1]\n",
      " [-1 -1]\n",
      " [ 0  0]\n",
      " [-1 -1]\n",
      " [ 1  1]\n",
      " [-1  1]\n",
      " [ 1  0]\n",
      " [-1 -1]\n",
      " [ 1 -1]\n",
      " [-1 -1]\n",
      " [ 1  1]\n",
      " [-1  1]\n",
      " [ 1 -1]\n",
      " [ 0  0]\n",
      " [-1 -1]\n",
      " [-1  1]\n",
      " [ 1  1]\n",
      " [ 0  0]\n",
      " [ 1  1]\n",
      " [-1 -1]\n",
      " [-1 -1]\n",
      " [-1 -1]\n",
      " [ 1  1]\n",
      " [ 1  1]\n",
      " [ 1  1]\n",
      " [-1 -1]\n",
      " [-1 -1]\n",
      " [-1 -1]\n",
      " [-1 -1]\n",
      " [ 1  1]\n",
      " [ 0  0]\n",
      " [ 1  1]\n",
      " [-1 -1]\n",
      " [-1 -1]\n",
      " [ 1  1]\n",
      " [-1 -1]\n",
      " [ 1  1]\n",
      " [ 0  0]\n",
      " [ 1  1]\n",
      " [ 1  1]\n",
      " [ 1  1]\n",
      " [-1 -1]\n",
      " [-1 -1]\n",
      " [ 0  1]\n",
      " [-1  1]\n",
      " [ 1 -1]\n",
      " [ 1  1]\n",
      " [-1 -1]\n",
      " [-1  1]\n",
      " [ 1 -1]\n",
      " [-1 -1]\n",
      " [ 1  1]\n",
      " [ 1  1]\n",
      " [-1 -1]\n",
      " [-1 -1]\n",
      " [ 1  1]\n",
      " [-1 -1]\n",
      " [-1 -1]\n",
      " [-1 -1]\n",
      " [ 1  1]\n",
      " [-1 -1]\n",
      " [-1 -1]\n",
      " [-1 -1]\n",
      " [-1 -1]\n",
      " [-1 -1]\n",
      " [-1 -1]\n",
      " [ 1  1]\n",
      " [ 1  1]\n",
      " [-1  1]\n",
      " [ 0  0]\n",
      " [-1 -1]\n",
      " [ 1  1]\n",
      " [-1 -1]\n",
      " [ 1  1]\n",
      " [-1 -1]\n",
      " [ 1  1]\n",
      " [-1 -1]\n",
      " [-1 -1]\n",
      " [ 1  1]\n",
      " [ 1  1]\n",
      " [ 1  1]\n",
      " [-1 -1]\n",
      " [ 1  1]\n",
      " [ 1  1]\n",
      " [-1 -1]\n",
      " [ 1 -1]\n",
      " [-1  1]\n",
      " [ 1 -1]\n",
      " [-1  1]\n",
      " [ 0  0]\n",
      " [-1 -1]\n",
      " [ 0  0]\n",
      " [ 1  1]\n",
      " [-1 -1]\n",
      " [ 1  1]\n",
      " [-1 -1]\n",
      " [-1 -1]\n",
      " [ 0  0]\n",
      " [ 1  1]\n",
      " [ 0  0]\n",
      " [-1 -1]\n",
      " [-1 -1]\n",
      " [-1 -1]\n",
      " [ 1  1]\n",
      " [-1 -1]\n",
      " [ 1  1]\n",
      " [ 1  1]\n",
      " [ 1  1]\n",
      " [-1 -1]\n",
      " [-1 -1]\n",
      " [ 1  1]\n",
      " [ 1  1]\n",
      " [ 0  1]\n",
      " [-1 -1]\n",
      " [-1 -1]\n",
      " [-1 -1]\n",
      " [-1 -1]\n",
      " [-1 -1]\n",
      " [ 1  1]\n",
      " [ 0  0]\n",
      " [-1  1]\n",
      " [ 1  1]\n",
      " [ 1  1]\n",
      " [ 1  1]\n",
      " [-1 -1]\n",
      " [-1 -1]\n",
      " [ 1  1]\n",
      " [ 1  1]\n",
      " [-1 -1]\n",
      " [ 1 -1]\n",
      " [ 1  1]\n",
      " [ 1  1]\n",
      " [ 1  1]\n",
      " [ 1 -1]\n",
      " [ 1  1]\n",
      " [-1 -1]\n",
      " [-1 -1]\n",
      " [-1 -1]\n",
      " [-1 -1]\n",
      " [-1 -1]\n",
      " [ 1 -1]\n",
      " [-1 -1]\n",
      " [-1 -1]\n",
      " [-1 -1]\n",
      " [-1  1]\n",
      " [-1 -1]\n",
      " [-1 -1]\n",
      " [-1 -1]\n",
      " [-1 -1]\n",
      " [ 1  1]\n",
      " [-1 -1]\n",
      " [-1 -1]\n",
      " [ 1  1]\n",
      " [ 1  1]\n",
      " [-1 -1]\n",
      " [-1 -1]\n",
      " [ 0  0]\n",
      " [ 0  1]\n",
      " [-1 -1]\n",
      " [-1 -1]\n",
      " [ 1  1]\n",
      " [ 0  0]\n",
      " [ 0  0]\n",
      " [ 0  0]\n",
      " [ 1  1]\n",
      " [-1 -1]\n",
      " [ 1  1]\n",
      " [-1 -1]\n",
      " [-1 -1]\n",
      " [-1 -1]\n",
      " [-1 -1]\n",
      " [ 1  1]\n",
      " [-1 -1]\n",
      " [ 1  1]\n",
      " [ 1  1]\n",
      " [-1 -1]\n",
      " [-1 -1]\n",
      " [-1 -1]\n",
      " [ 1  1]\n",
      " [ 1  1]\n",
      " [-1 -1]\n",
      " [ 1  1]\n",
      " [ 1  1]\n",
      " [ 1  1]\n",
      " [ 1  1]\n",
      " [ 0  0]\n",
      " [-1 -1]\n",
      " [ 1 -1]\n",
      " [ 1  1]\n",
      " [ 1  1]\n",
      " [-1  1]\n",
      " [-1 -1]\n",
      " [-1 -1]\n",
      " [ 1  1]\n",
      " [-1 -1]\n",
      " [ 1  1]\n",
      " [-1 -1]\n",
      " [ 0  0]\n",
      " [ 0  0]\n",
      " [-1 -1]\n",
      " [-1 -1]\n",
      " [ 1  1]\n",
      " [-1 -1]\n",
      " [ 1  1]\n",
      " [-1 -1]\n",
      " [-1 -1]\n",
      " [ 1  1]\n",
      " [-1 -1]\n",
      " [ 1  1]\n",
      " [ 1  1]\n",
      " [ 1  1]\n",
      " [-1 -1]\n",
      " [-1 -1]\n",
      " [-1 -1]\n",
      " [-1 -1]]\n"
     ]
    }
   ],
   "source": [
    "y_pred = classifier.predict(X_test)\n",
    "print(np.concatenate((y_pred.reshape(len(y_pred),1), y_test.reshape(len(y_test),1)),1))"
   ]
  },
  {
   "cell_type": "markdown",
   "metadata": {
    "id": "h4Hwj34ziWQW"
   },
   "source": [
    "## Making the Confusion Matrix"
   ]
  },
  {
   "cell_type": "code",
   "execution_count": 42,
   "metadata": {
    "colab": {
     "base_uri": "https://localhost:8080/"
    },
    "id": "D6bpZwUiiXic",
    "outputId": "e4234d2b-dd30-4790-a253-65e6bee730c5"
   },
   "outputs": [
    {
     "name": "stdout",
     "output_type": "stream",
     "text": [
      "[[153   0  18]\n",
      " [  2  24   2]\n",
      " [ 17   3 120]]\n"
     ]
    },
    {
     "data": {
      "text/plain": [
       "0.8761061946902655"
      ]
     },
     "execution_count": 42,
     "metadata": {},
     "output_type": "execute_result"
    }
   ],
   "source": [
    "from sklearn.metrics import confusion_matrix, accuracy_score\n",
    "cm = confusion_matrix(y_test, y_pred)\n",
    "print(cm)\n",
    "accuracy_score(y_test, y_pred)"
   ]
  },
  {
   "cell_type": "code",
   "execution_count": 43,
   "metadata": {
    "id": "uAuzlhRzmOvw"
   },
   "outputs": [],
   "source": [
    "import pickle\n",
    "filename = 'RandomForest_Pickle.pkl'\n",
    "with open(filename, 'wb') as file:\n",
    "  pickle.dump(classifier, file)"
   ]
  },
  {
   "cell_type": "code",
   "execution_count": 46,
   "metadata": {},
   "outputs": [
    {
     "data": {
      "text/plain": [
       "array([-1], dtype=int64)"
      ]
     },
     "execution_count": 46,
     "metadata": {},
     "output_type": "execute_result"
    }
   ],
   "source": [
    "import joblib\n",
    "RF = joblib.load('RandomForest_Pickle.pkl')\n",
    "\n",
    "testy = RF.predict([[1,0,1,1,0,0,0,1,1]])\n",
    "testy"
   ]
  },
  {
   "cell_type": "code",
   "execution_count": null,
   "metadata": {},
   "outputs": [],
   "source": []
  }
 ],
 "metadata": {
  "colab": {
   "include_colab_link": true,
   "machine_shape": "hm",
   "provenance": []
  },
  "kernelspec": {
   "display_name": "Python 3",
   "language": "python",
   "name": "python3"
  },
  "language_info": {
   "codemirror_mode": {
    "name": "ipython",
    "version": 3
   },
   "file_extension": ".py",
   "mimetype": "text/x-python",
   "name": "python",
   "nbconvert_exporter": "python",
   "pygments_lexer": "ipython3",
   "version": "3.10.8"
  }
 },
 "nbformat": 4,
 "nbformat_minor": 1
}
