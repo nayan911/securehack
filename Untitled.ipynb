{
 "cells": [
  {
   "cell_type": "code",
   "execution_count": null,
   "id": "23e59976",
   "metadata": {},
   "outputs": [],
   "source": [
    "import requests\n",
    "\n",
    "def check_sfh(url):\n",
    "    try:\n",
    "        response = requests.get(url)\n",
    "        csp_header = response.headers.get('Content-Security-Policy', '')\n",
    "\n",
    "        # Check for empty SFH\n",
    "        if not csp_header:\n",
    "            return -1\n",
    "            print(\"Empty SFH: Server-Side Forwarding (SFH) is not implemented.\")\n",
    "\n",
    "        # Check for SFH pointing to a different domain\n",
    "        elif \"'none'\" in csp_header or \"'self'\" in csp_header:\n",
    "            return 0\n",
    "            print(\"SFH for Different Domain: Server-Side Forwarding (SFH) is implemented, but allows loading content from a different domain.\")\n",
    "\n",
    "        # Check for valid SFH\n",
    "        elif 'frame-ancestors' in csp_header:\n",
    "            return 1\n",
    "            print(\"Valid SFH: Server-Side Forwarding (SFH) protection mechanism is likely implemented.\")\n",
    "        \n",
    "        else:\n",
    "            return -1\n",
    "            print(\"Unknown SFH configuration.\")\n",
    "\n",
    "    except requests.exceptions.RequestException:\n",
    "        return -1\n",
    "        print(\"Error occurred while accessing the URL.\")\n",
    "\n",
    "# Example usage\n",
    "url_to_check = \"https://github.com\"\n",
    "\n",
    "# Check empty SFH\n",
    "check_sfh(url_to_check)\n",
    "\n",
    "# Modify CSP header to point to a different domain\n",
    "# url_to_check_modified = \"https://example2.com\"\n",
    "# check_sfh(url_to_check_modified)\n",
    "\n",
    "# # Add 'frame-ancestors' directive to CSP header\n",
    "# url_to_check_valid = \"https://example3.com\"\n",
    "# check_sfh(url_to_check_valid)\n"
   ]
  },
  {
   "cell_type": "code",
   "execution_count": 1,
   "id": "b72ba766",
   "metadata": {},
   "outputs": [
    {
     "name": "stdout",
     "output_type": "stream",
     "text": [
      "Requirement already satisfied: selenium in c:\\users\\ajitg\\miniconda3\\lib\\site-packages (4.2.0)\n",
      "Requirement already satisfied: urllib3[secure,socks]~=1.26 in c:\\users\\ajitg\\miniconda3\\lib\\site-packages (from selenium) (1.26.15)\n",
      "Requirement already satisfied: trio~=0.17 in c:\\users\\ajitg\\miniconda3\\lib\\site-packages (from selenium) (0.22.0)\n",
      "Requirement already satisfied: trio-websocket~=0.9 in c:\\users\\ajitg\\miniconda3\\lib\\site-packages (from selenium) (0.10.3)\n",
      "Requirement already satisfied: attrs>=19.2.0 in c:\\users\\ajitg\\miniconda3\\lib\\site-packages (from trio~=0.17->selenium) (23.1.0)\n",
      "Requirement already satisfied: idna in c:\\users\\ajitg\\miniconda3\\lib\\site-packages (from trio~=0.17->selenium) (3.4)\n",
      "Requirement already satisfied: sortedcontainers in c:\\users\\ajitg\\miniconda3\\lib\\site-packages (from trio~=0.17->selenium) (2.4.0)\n",
      "Requirement already satisfied: cffi>=1.14 in c:\\users\\ajitg\\miniconda3\\lib\\site-packages (from trio~=0.17->selenium) (1.15.1)\n",
      "Requirement already satisfied: exceptiongroup>=1.0.0rc9 in c:\\users\\ajitg\\miniconda3\\lib\\site-packages (from trio~=0.17->selenium) (1.1.1)\n",
      "Requirement already satisfied: sniffio in c:\\users\\ajitg\\miniconda3\\lib\\site-packages (from trio~=0.17->selenium) (1.3.0)\n",
      "Requirement already satisfied: async-generator>=1.9 in c:\\users\\ajitg\\miniconda3\\lib\\site-packages (from trio~=0.17->selenium) (1.10)\n",
      "Requirement already satisfied: outcome in c:\\users\\ajitg\\miniconda3\\lib\\site-packages (from trio~=0.17->selenium) (1.2.0)\n",
      "Requirement already satisfied: wsproto>=0.14 in c:\\users\\ajitg\\miniconda3\\lib\\site-packages (from trio-websocket~=0.9->selenium) (1.2.0)\n",
      "Requirement already satisfied: certifi in c:\\users\\ajitg\\miniconda3\\lib\\site-packages (from urllib3[secure,socks]~=1.26->selenium) (2023.5.7)\n",
      "Requirement already satisfied: pyOpenSSL>=0.14 in c:\\users\\ajitg\\miniconda3\\lib\\site-packages (from urllib3[secure,socks]~=1.26->selenium) (22.0.0)\n",
      "Requirement already satisfied: urllib3-secure-extra in c:\\users\\ajitg\\miniconda3\\lib\\site-packages (from urllib3[secure,socks]~=1.26->selenium) (0.1.0)\n",
      "Requirement already satisfied: cryptography>=1.3.4 in c:\\users\\ajitg\\miniconda3\\lib\\site-packages (from urllib3[secure,socks]~=1.26->selenium) (38.0.1)\n",
      "Requirement already satisfied: PySocks!=1.5.7,<2.0,>=1.5.6 in c:\\users\\ajitg\\miniconda3\\lib\\site-packages (from urllib3[secure,socks]~=1.26->selenium) (1.7.1)\n",
      "Requirement already satisfied: pycparser in c:\\users\\ajitg\\miniconda3\\lib\\site-packages (from cffi>=1.14->trio~=0.17->selenium) (2.21)\n",
      "Requirement already satisfied: h11<1,>=0.9.0 in c:\\users\\ajitg\\miniconda3\\lib\\site-packages (from wsproto>=0.14->trio-websocket~=0.9->selenium) (0.14.0)\n"
     ]
    }
   ],
   "source": [
    "!pip install selenium"
   ]
  },
  {
   "cell_type": "code",
   "execution_count": 24,
   "id": "d681b59c",
   "metadata": {},
   "outputs": [
    {
     "name": "stdout",
     "output_type": "stream",
     "text": [
      "No pop-up\n"
     ]
    }
   ],
   "source": [
    "import requests\n",
    "\n",
    "def analyze_link_behavior(url):\n",
    "    # Send a GET request to the link\n",
    "    response = requests.get(url)\n",
    "\n",
    "    # Analyze the response and determine the behavior\n",
    "    if response.status_code == 200:\n",
    "        content_type = response.headers.get('content-type', '')\n",
    "        if 'html' in content_type:\n",
    "            html_content = response.text\n",
    "            # Check if right-click is disabled\n",
    "            if 'oncontextmenu=\"return false;\"' in html_content:\n",
    "                print(\"Right click Disabled and pop-up\")\n",
    "            else:\n",
    "                print(\"No pop-up\")\n",
    "        else:\n",
    "            print(\"No pop-up\")\n",
    "    else:\n",
    "        print(\"Right click with alert\")\n",
    "\n",
    "# Example usage\n",
    "url = 'https://erosnow.com/movies/mostpopular/Hindi'  # Replace with your desired URL\n",
    "analyze_link_behavior(url)"
   ]
  },
  {
   "cell_type": "code",
   "execution_count": 12,
   "id": "17ded387",
   "metadata": {},
   "outputs": [
    {
     "name": "stdout",
     "output_type": "stream",
     "text": [
      "SSL Final State: HTTP and not trusted\n"
     ]
    }
   ],
   "source": [
    "import ssl\n",
    "import socket\n",
    "\n",
    "def check_ssl_final_state(url):\n",
    "    # Establish a TCP connection to the host\n",
    "    hostname = url.split('//')[1].split('/')[0]  # Extract the hostname from the URL\n",
    "    port = 443  # Default SSL port\n",
    "    context = ssl.create_default_context()\n",
    "\n",
    "    try:\n",
    "        # Create a socket and connect to the host\n",
    "        with socket.create_connection((hostname, port)) as sock:\n",
    "            with context.wrap_socket(sock, server_hostname=hostname) as secure_sock:\n",
    "                # Get the SSL certificate details\n",
    "                cert = secure_sock.getpeercert()\n",
    "\n",
    "                # Check SSL final state conditions\n",
    "                if 'https' not in url.lower() and 'http' not in cert['subjectAltName'][0][1].lower():\n",
    "                    return \"Not HTTP nor trusted\"\n",
    "                elif 'http' in url.lower() and 'http' in cert['subjectAltName'][0][1].lower():\n",
    "                    return \"HTTP and trusted\"\n",
    "                elif 'http' in url.lower() and 'http' not in cert['subjectAltName'][0][1].lower():\n",
    "                    return \"HTTP and not trusted\"\n",
    "    except Exception as e:\n",
    "        return str(e)\n",
    "\n",
    "# Example usage\n",
    "url = 'https://github.com/nayan911/securehack'  # Replace with your desired URL\n",
    "ssl_final_state = check_ssl_final_state(url)\n",
    "print(\"SSL Final State:\", ssl_final_state)\n"
   ]
  },
  {
   "cell_type": "code",
   "execution_count": 13,
   "id": "7d1189be",
   "metadata": {},
   "outputs": [
    {
     "name": "stdout",
     "output_type": "stream",
     "text": [
      "Request URL > 61%\n"
     ]
    }
   ],
   "source": [
    "def check_request_url(url):\n",
    "    url_length = len(url)\n",
    "    threshold = len(url) * 0.22  # 22% threshold\n",
    "\n",
    "    if url_length > threshold:\n",
    "        return -1\n",
    "        print(\"Request URL > 61%\")\n",
    "\n",
    "    elif threshold <= url_length <= (threshold * 0.61):\n",
    "        return 0\n",
    "        print(\"22% <= Request URL <= 61%\")\n",
    "\n",
    "    else:\n",
    "        return 1\n",
    "        print(\"Request URL < 22%\")\n",
    "\n",
    "# Example usage\n",
    "url_to_check = \"https://github.com/nayan911/securehack\"\n",
    "\n",
    "check_request_url(url_to_check)\n"
   ]
  },
  {
   "cell_type": "code",
   "execution_count": 14,
   "id": "49753684",
   "metadata": {},
   "outputs": [
    {
     "name": "stdout",
     "output_type": "stream",
     "text": [
      "anchor_url > 61%\n"
     ]
    }
   ],
   "source": [
    "def check_url_of_anchor(anchor_url):\n",
    "    url_length = len(anchor_url)\n",
    "    threshold = len(anchor_url) * 0.22  # 22% threshold\n",
    "\n",
    "    if url_length > threshold:\n",
    "        return -1\n",
    "        print(\"anchor_url > 61%\")\n",
    "\n",
    "    elif threshold <= url_length <= (threshold * 0.61):\n",
    "        return 0\n",
    "        print(\"22% <= anchor_url <= 61%\")\n",
    "\n",
    "    else:\n",
    "        return 1\n",
    "        print(\"anchor_url < 22%\")\n",
    "\n",
    "# Example usage\n",
    "anchor_url_to_check = \"https://github.com/nayan911/securehack\"\n",
    "\n",
    "check_url_of_anchor(anchor_url_to_check)\n"
   ]
  },
  {
   "cell_type": "code",
   "execution_count": 16,
   "id": "61e51517",
   "metadata": {},
   "outputs": [
    {
     "name": "stdout",
     "output_type": "stream",
     "text": [
      "Unable to fetch web traffic data.\n"
     ]
    }
   ],
   "source": [
    "\n"
   ]
  },
  {
   "cell_type": "code",
   "execution_count": 18,
   "id": "7da9fdda",
   "metadata": {},
   "outputs": [
    {
     "name": "stdout",
     "output_type": "stream",
     "text": [
      "Failed to fetch web traffic data: \n"
     ]
    }
   ],
   "source": [
    "\n"
   ]
  },
  {
   "cell_type": "code",
   "execution_count": 21,
   "id": "25bc1514",
   "metadata": {},
   "outputs": [],
   "source": []
  },
  {
   "cell_type": "code",
   "execution_count": 23,
   "id": "14e8ee04",
   "metadata": {},
   "outputs": [
    {
     "data": {
      "text/plain": [
       "1"
      ]
     },
     "execution_count": 23,
     "metadata": {},
     "output_type": "execute_result"
    }
   ],
   "source": [
    "def check_url_length(url):\n",
    "    url_length = len(url)\n",
    "\n",
    "    if url_length > 75:\n",
    "        return -1\n",
    "        print(\"len > 75\")\n",
    "\n",
    "    elif 54 < url_length < 75:\n",
    "        return 0\n",
    "        print(\"54 < len < 75\")\n",
    "\n",
    "    else:\n",
    "        return 1\n",
    "        print(\"len < 54\")\n",
    "\n",
    "# Example usage\n",
    "url_to_check = \"https://www.kaggle.com/\"\n",
    "\n",
    "check_url_length(url_to_check)\n"
   ]
  },
  {
   "cell_type": "code",
   "execution_count": 26,
   "id": "64d2f544",
   "metadata": {},
   "outputs": [
    {
     "name": "stdout",
     "output_type": "stream",
     "text": [
      "Collecting python-whois\n",
      "  Downloading python-whois-0.8.0.tar.gz (109 kB)\n",
      "     ------------------------------------ 109.6/109.6 kB 317.6 kB/s eta 0:00:00\n",
      "  Preparing metadata (setup.py): started\n",
      "  Preparing metadata (setup.py): finished with status 'done'\n",
      "Collecting future\n",
      "  Using cached future-0.18.3.tar.gz (840 kB)\n",
      "  Preparing metadata (setup.py): started\n",
      "  Preparing metadata (setup.py): finished with status 'done'\n",
      "Building wheels for collected packages: python-whois, future\n",
      "  Building wheel for python-whois (setup.py): started\n",
      "  Building wheel for python-whois (setup.py): finished with status 'done'\n",
      "  Created wheel for python-whois: filename=python_whois-0.8.0-py3-none-any.whl size=103247 sha256=bac747b411be1b242ad536d85ba21c8a8e8168de975d61d4804f5cdff1ebdcd6\n",
      "  Stored in directory: c:\\users\\ajitg\\appdata\\local\\pip\\cache\\wheels\\f7\\ab\\00\\08a45a044bbdf998048131658b00796aa2ef5127b3e54995cb\n",
      "  Building wheel for future (setup.py): started\n",
      "  Building wheel for future (setup.py): finished with status 'done'\n",
      "  Created wheel for future: filename=future-0.18.3-py3-none-any.whl size=492025 sha256=b6da00a5e996485c041407a501214b843d368419d6b242c8c28780805fc5ed72\n",
      "  Stored in directory: c:\\users\\ajitg\\appdata\\local\\pip\\cache\\wheels\\69\\c0\\ce\\f2a18105d619f21239a048bcc58e98d8ce47ac824e0531f1a0\n",
      "Successfully built python-whois future\n",
      "Installing collected packages: future, python-whois\n",
      "Successfully installed future-0.18.3 python-whois-0.8.0\n"
     ]
    }
   ],
   "source": [
    "!pip install python-whois"
   ]
  },
  {
   "cell_type": "code",
   "execution_count": 30,
   "id": "34a9af56",
   "metadata": {},
   "outputs": [
    {
     "name": "stdout",
     "output_type": "stream",
     "text": [
      "Age of domain: < 1 year\n"
     ]
    }
   ],
   "source": [
    "import whois\n",
    "from datetime import datetime\n",
    "\n",
    "def calculate_domain_age(url):\n",
    "    try:\n",
    "        domain = whois.whois(url)\n",
    "        creation_date = domain.creation_date\n",
    "\n",
    "        if isinstance(creation_date, list):\n",
    "            creation_date = creation_date[0]\n",
    "\n",
    "        current_date = datetime.now()\n",
    "        domain_age = (current_date - creation_date).days\n",
    "\n",
    "        return domain_age\n",
    "\n",
    "    except Exception as e:\n",
    "        print(\"Error fetching domain age:\", str(e))\n",
    "\n",
    "    return None\n",
    "\n",
    "# Example usage\n",
    "url_to_check = \"https://ninadsonawane.com/\"\n",
    "domain_age = calculate_domain_age(url_to_check)\n",
    "\n",
    "if domain_age is not None:\n",
    "    if domain_age < 365:\n",
    "        print(\"Age of domain: < 1 year\")\n",
    "    else:\n",
    "        print(\"Age of domain: > 1 year\")\n"
   ]
  },
  {
   "cell_type": "code",
   "execution_count": 42,
   "id": "d97b6f55",
   "metadata": {},
   "outputs": [
    {
     "name": "stdout",
     "output_type": "stream",
     "text": [
      "URL IP address: 35.244.233.98\n"
     ]
    }
   ],
   "source": [
    "import socket\n",
    "\n",
    "def get_ip_address(url):\n",
    "    try:\n",
    "        ip_address = socket.gethostbyname(url)\n",
    "        return ip_address\n",
    "    except socket.gaierror:\n",
    "        return None\n",
    "\n",
    "# Example usage\n",
    "url = 'www.kaggle.com'  # Replace with your desired URL\n",
    "ip_address = get_ip_address(url)\n",
    "\n",
    "if ip_address is not None:\n",
    "    print(\"URL IP address:\", ip_address)\n",
    "else:\n",
    "    print(\"No IP address available.\")"
   ]
  },
  {
   "cell_type": "code",
   "execution_count": 41,
   "id": "ed30516e",
   "metadata": {},
   "outputs": [
    {
     "name": "stdout",
     "output_type": "stream",
     "text": [
      "Error fetching web traffic data: Expecting value: line 1 column 1 (char 0)\n"
     ]
    }
   ],
   "source": [
    "import requests\n",
    "\n",
    "def get_web_traffic_data(url, api_key):\n",
    "    try:\n",
    "        endpoint = f\"https://api.similarweb.com/v1/website/{url}/total-traffic-and-engagement/visits?api_key={api_key}\"\n",
    "        response = requests.get(endpoint)\n",
    "        data = response.json()\n",
    "\n",
    "        # Extract the web traffic data from the API response\n",
    "        web_traffic = data.get('visits')\n",
    "\n",
    "        return web_traffic\n",
    "\n",
    "    except requests.RequestException as e:\n",
    "        print(\"Error fetching web traffic data:\", str(e))\n",
    "\n",
    "    return None\n",
    "\n",
    "# Example usage\n",
    "url_to_check = \"https://www.kaggle.com\"\n",
    "api_key = \"40f66c9bcfa7403bbf3a46584af8c691\"\n",
    "\n",
    "web_traffic = get_web_traffic_data(url_to_check, api_key)\n",
    "\n",
    "if web_traffic is not None:\n",
    "    print(\"Web Traffic:\", web_traffic)\n"
   ]
  },
  {
   "cell_type": "code",
   "execution_count": null,
   "id": "be0f03fa",
   "metadata": {},
   "outputs": [],
   "source": []
  }
 ],
 "metadata": {
  "kernelspec": {
   "display_name": "Python 3",
   "language": "python",
   "name": "python3"
  },
  "language_info": {
   "codemirror_mode": {
    "name": "ipython",
    "version": 3
   },
   "file_extension": ".py",
   "mimetype": "text/x-python",
   "name": "python",
   "nbconvert_exporter": "python",
   "pygments_lexer": "ipython3",
   "version": "3.10.8"
  }
 },
 "nbformat": 4,
 "nbformat_minor": 5
}
